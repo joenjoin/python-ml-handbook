{
 "cells": [
  {
   "cell_type": "markdown",
   "metadata": {},
   "source": [
    "## [Truth Value Testing](https://docs.python.org/2/library/stdtypes.html#truth-value-testing)\n",
    "\n",
    "Any object can be tested for truth value, for use in an if or while condition or as operand of the Boolean operations below. The following values are considered false:\n",
    "\n",
    "- `None`\n",
    "\n",
    "- `False`\n",
    "\n",
    "- zero of any numeric type, for example, `0, 0L, 0.0, 0j`.\n",
    "\n",
    "- any empty sequence, for example, `'', (), []`.\n",
    "\n",
    "- any empty mapping, for example, `{}`.\n",
    "\n",
    "instances of user-defined classes, if the class defines a `__nonzero__()` or `__len__()` method, when that method returns the integer zero or `bool` value `False`. [1]\n",
    "\n",
    "All other values are considered true — *so objects of many types are always true*.\n",
    "\n",
    "Operations and built-in functions that have a Boolean result always return `0` or `False` for false and `1` or `True` for true, unless otherwise stated. (Important exception: the Boolean operations `or` and `and` always return one of their operands.)"
   ]
  },
  {
   "cell_type": "code",
   "execution_count": null,
   "metadata": {
    "collapsed": true
   },
   "outputs": [],
   "source": []
  }
 ],
 "metadata": {
  "kernelspec": {
   "display_name": "Python 2",
   "language": "python",
   "name": "python2"
  },
  "language_info": {
   "codemirror_mode": {
    "name": "ipython",
    "version": 2
   },
   "file_extension": ".py",
   "mimetype": "text/x-python",
   "name": "python",
   "nbconvert_exporter": "python",
   "pygments_lexer": "ipython2",
   "version": "2.7.11"
  }
 },
 "nbformat": 4,
 "nbformat_minor": 0
}
