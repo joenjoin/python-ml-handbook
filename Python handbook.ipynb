{
 "cells": [
  {
   "cell_type": "markdown",
   "metadata": {},
   "source": [
    "## Enumerate it\n",
    "\n",
    "Ever wanted to find that damn index when you're inside a loop?"
   ]
  },
  {
   "cell_type": "code",
   "execution_count": 2,
   "metadata": {
    "collapsed": false
   },
   "outputs": [
    {
     "name": "stdout",
     "output_type": "stream",
     "text": [
      "0: 1\n",
      "1: 3\n",
      "2: 5\n",
      "3: 7\n"
     ]
    }
   ],
   "source": [
    "mylist = [1, 3, 5, 7]\n",
    "for i, value in enumerate(mylist):\n",
    "    print \"%d: %d\" % (i, value)"
   ]
  },
  {
   "cell_type": "markdown",
   "metadata": {},
   "source": [
    "## Splat call\n",
    "'*' is called the splat operator, and may make you smile. It automagically unpacks stuff in a function call."
   ]
  },
  {
   "cell_type": "code",
   "execution_count": 8,
   "metadata": {
    "collapsed": false
   },
   "outputs": [
    {
     "name": "stdout",
     "output_type": "stream",
     "text": [
      "10 20 30\n",
      "a c b\n",
      "1 3 5\n"
     ]
    }
   ],
   "source": [
    "def foo(a, b, c):\n",
    "    print a, b, c\n",
    "\n",
    "mydict = {'a':1, 'b':3, 'c':5}\n",
    "mylist = [10, 20, 30]\n",
    "\n",
    "foo(*mylist)\n",
    "foo(*mydict)\n",
    "foo(**mydict)"
   ]
  },
  {
   "cell_type": "markdown",
   "metadata": {},
   "source": [
    "## Readable Regular Expressions \n",
    "\n",
    "Regular Expressions are very difficult to comprehend due to their syntax and because of the fact that they are mostly compressed together. Complex Regular Expressions can be difficult to read for the programmer himself. Python supports comments in Regular Expressions that can be safely ignored."
   ]
  },
  {
   "cell_type": "code",
   "execution_count": 10,
   "metadata": {
    "collapsed": true
   },
   "outputs": [],
   "source": [
    "pattern = \"\"\"\n",
    "    ^                   # beginning of string\n",
    "    M{0,4}              # thousands - 0 to 4 M's\n",
    "    (CM|CD|D?C{0,3})    # hundreds - 900 (CM), 400 (CD), 0-300 (0 to 3 C's),\n",
    "    \t\t\t\t\t#            or 500-800 (D, followed by 0 to 3 C's)\n",
    "    (XC|XL|L?X{0,3})    # tens - 90 (XC), 40 (XL), 0-30 (0 to 3 X's),\n",
    "                        #        or 50-80 (L, followed by 0 to 3 X's)\n",
    "    (IX|IV|V?I{0,3})    # ones - 9 (IX), 4 (IV), 0-3 (0 to 3 I's),\n",
    "                        #        or 5-8 (V, followed by 0 to 3 I's)\n",
    "    $                   # end of string\n",
    "    \"\"\""
   ]
  },
  {
   "cell_type": "markdown",
   "metadata": {},
   "source": [
    "## Inline if Statement"
   ]
  },
  {
   "cell_type": "code",
   "execution_count": 12,
   "metadata": {
    "collapsed": false
   },
   "outputs": [
    {
     "name": "stdout",
     "output_type": "stream",
     "text": [
      "Hello\n"
     ]
    }
   ],
   "source": [
    "print \"Hello\" if True else \"World\""
   ]
  },
  {
   "cell_type": "markdown",
   "metadata": {},
   "source": [
    "## Iterate Through Two Lists at the Same Time"
   ]
  },
  {
   "cell_type": "code",
   "execution_count": 13,
   "metadata": {
    "collapsed": false
   },
   "outputs": [
    {
     "name": "stdout",
     "output_type": "stream",
     "text": [
      "Packers vs. Ravens\n",
      "49ers vs. Patriots\n"
     ]
    }
   ],
   "source": [
    "nfc = [\"Packers\", \"49ers\"]\n",
    "afc = [\"Ravens\", \"Patriots\"]\n",
    " \n",
    "for teama, teamb in zip(nfc, afc):\n",
    "    print teama + \" vs. \" + teamb"
   ]
  },
  {
   "cell_type": "markdown",
   "metadata": {},
   "source": [
    "## List Comprehension"
   ]
  },
  {
   "cell_type": "code",
   "execution_count": 15,
   "metadata": {
    "collapsed": false
   },
   "outputs": [
    {
     "name": "stdout",
     "output_type": "stream",
     "text": [
      "[2, 4, 6]\n"
     ]
    }
   ],
   "source": [
    "numbers = [1,2,3,4,5,6]\n",
    "even = [number for number in numbers if number%2 == 0]\n",
    "print even"
   ]
  },
  {
   "cell_type": "markdown",
   "metadata": {},
   "source": [
    "## Dictionary Comprehension\n",
    "\n",
    "Similar to the list comprehension we can also do a dictionary comprehension like this:"
   ]
  },
  {
   "cell_type": "code",
   "execution_count": 16,
   "metadata": {
    "collapsed": false
   },
   "outputs": [
    {
     "name": "stdout",
     "output_type": "stream",
     "text": [
      "{'49ers': 1, 'Ravens': 2, 'Patriots': 3, 'Packers': 0}\n"
     ]
    }
   ],
   "source": [
    "teams = [\"Packers\", \"49ers\", \"Ravens\", \"Patriots\"]\n",
    "print {key: value for value, key in enumerate(teams)}"
   ]
  },
  {
   "cell_type": "code",
   "execution_count": null,
   "metadata": {
    "collapsed": true
   },
   "outputs": [],
   "source": []
  }
 ],
 "metadata": {
  "kernelspec": {
   "display_name": "Python 2",
   "language": "python",
   "name": "python2"
  },
  "language_info": {
   "codemirror_mode": {
    "name": "ipython",
    "version": 2
   },
   "file_extension": ".py",
   "mimetype": "text/x-python",
   "name": "python",
   "nbconvert_exporter": "python",
   "pygments_lexer": "ipython2",
   "version": "2.7.11"
  }
 },
 "nbformat": 4,
 "nbformat_minor": 0
}
